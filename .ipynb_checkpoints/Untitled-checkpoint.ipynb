{
 "cells": [
  {
   "cell_type": "code",
   "execution_count": 1,
   "id": "64c03ca9",
   "metadata": {},
   "outputs": [],
   "source": [
    "import tensorflow as tf\n",
    "from tensorflow.keras.models import Sequential\n",
    "from tensorflow.keras.layers import Conv2D, MaxPooling2D, Flatten, Dense\n",
    "from tensorflow.keras.preprocessing.image import ImageDataGenerator\n",
    "import matplotlib.pyplot as plt\n",
    "import seaborn as sns\n",
    "import numpy as np\n",
    "import cv2\n",
    "import keras"
   ]
  },
  {
   "cell_type": "code",
   "execution_count": null,
   "id": "3e737547",
   "metadata": {},
   "outputs": [],
   "source": []
  },
  {
   "cell_type": "code",
   "execution_count": 2,
   "id": "6b477161",
   "metadata": {},
   "outputs": [
    {
     "name": "stdout",
     "output_type": "stream",
     "text": [
      "Found 14630 images belonging to 3 classes.\n",
      "Found 1500 images belonging to 3 classes.\n"
     ]
    },
    {
     "data": {
      "text/plain": [
       "{'cat': 0, 'dog': 1, 'wild': 2}"
      ]
     },
     "execution_count": 2,
     "metadata": {},
     "output_type": "execute_result"
    }
   ],
   "source": [
    "train_path = \"./animal_faces/afhq/train\"\n",
    "val_path = \"./animal_faces/afhq/val\"\n",
    "\n",
    "training_generator = ImageDataGenerator(rescale=1./255,\n",
    "                                        rotation_range=7,\n",
    "                                        horizontal_flip=True,\n",
    "                                        zoom_range=0.2)\n",
    "training_data = training_generator.flow_from_directory(train_path,\n",
    "                                                        target_size = (64, 64),\n",
    "                                                        batch_size = 32,\n",
    "                                                        class_mode = 'categorical',\n",
    "                                                        shuffle = True)\n",
    "\n",
    "test_generator = ImageDataGenerator(rescale=1./255)\n",
    "test_data = test_generator.flow_from_directory(val_path,\n",
    "                                                     target_size = (64, 64),\n",
    "                                                     batch_size = 1,\n",
    "                                                     class_mode = 'categorical',\n",
    "                                                     shuffle = False)\n",
    "\n",
    "training_data.class_indices"
   ]
  },
  {
   "cell_type": "code",
   "execution_count": null,
   "id": "029990fb",
   "metadata": {},
   "outputs": [],
   "source": []
  },
  {
   "cell_type": "code",
   "execution_count": 3,
   "id": "3cb550cf",
   "metadata": {},
   "outputs": [],
   "source": [
    "network = Sequential()\n",
    "network.add(Conv2D(32, (3,3), input_shape = (64,64,3), activation='relu'))\n",
    "network.add(MaxPooling2D(pool_size=(2,2)))\n",
    "\n",
    "network.add(Conv2D(32, (3,3), activation='relu'))\n",
    "network.add(MaxPooling2D(pool_size=(2,2)))\n",
    "\n",
    "network.add(Flatten())\n",
    "\n",
    "network.add(Dense(units = 7317, activation='relu'))\n",
    "network.add(Dense(units = 7317, activation='relu'))\n",
    "network.add(Dense(units = 3, activation='softmax'))"
   ]
  },
  {
   "cell_type": "code",
   "execution_count": 4,
   "id": "dd27fe21",
   "metadata": {},
   "outputs": [
    {
     "name": "stdout",
     "output_type": "stream",
     "text": [
      "Model: \"sequential\"\n",
      "_________________________________________________________________\n",
      " Layer (type)                Output Shape              Param #   \n",
      "=================================================================\n",
      " conv2d (Conv2D)             (None, 62, 62, 32)        896       \n",
      "                                                                 \n",
      " max_pooling2d (MaxPooling2D  (None, 31, 31, 32)       0         \n",
      " )                                                               \n",
      "                                                                 \n",
      " conv2d_1 (Conv2D)           (None, 29, 29, 32)        9248      \n",
      "                                                                 \n",
      " max_pooling2d_1 (MaxPooling  (None, 14, 14, 32)       0         \n",
      " 2D)                                                             \n",
      "                                                                 \n",
      " flatten (Flatten)           (None, 6272)              0         \n",
      "                                                                 \n",
      " dense (Dense)               (None, 7317)              45899541  \n",
      "                                                                 \n",
      " dense_1 (Dense)             (None, 7317)              53545806  \n",
      "                                                                 \n",
      " dense_2 (Dense)             (None, 3)                 21954     \n",
      "                                                                 \n",
      "=================================================================\n",
      "Total params: 99,477,445\n",
      "Trainable params: 99,477,445\n",
      "Non-trainable params: 0\n",
      "_________________________________________________________________\n"
     ]
    }
   ],
   "source": [
    "network.summary()"
   ]
  },
  {
   "cell_type": "code",
   "execution_count": 5,
   "id": "c7c16fed",
   "metadata": {},
   "outputs": [],
   "source": [
    "network.compile(optimizer='Adam', loss='categorical_crossentropy', metrics = ['accuracy'])"
   ]
  },
  {
   "cell_type": "code",
   "execution_count": 6,
   "id": "85326d6a",
   "metadata": {},
   "outputs": [
    {
     "name": "stdout",
     "output_type": "stream",
     "text": [
      "Epoch 1/20\n",
      "458/458 [==============================] - 342s 744ms/step - loss: 0.4955 - accuracy: 0.8183\n",
      "Epoch 2/20\n",
      "458/458 [==============================] - 343s 750ms/step - loss: 0.2348 - accuracy: 0.9120\n",
      "Epoch 3/20\n",
      "458/458 [==============================] - 343s 748ms/step - loss: 0.1866 - accuracy: 0.9303\n",
      "Epoch 4/20\n",
      "458/458 [==============================] - 344s 751ms/step - loss: 0.1620 - accuracy: 0.9405\n",
      "Epoch 5/20\n",
      "458/458 [==============================] - 344s 750ms/step - loss: 0.1350 - accuracy: 0.9507\n",
      "Epoch 6/20\n",
      "458/458 [==============================] - 344s 751ms/step - loss: 0.1249 - accuracy: 0.9539\n",
      "Epoch 7/20\n",
      "458/458 [==============================] - 344s 751ms/step - loss: 0.1107 - accuracy: 0.9595\n",
      "Epoch 8/20\n",
      "458/458 [==============================] - 344s 750ms/step - loss: 0.1028 - accuracy: 0.9636\n",
      "Epoch 9/20\n",
      "458/458 [==============================] - 345s 753ms/step - loss: 0.1016 - accuracy: 0.9634\n",
      "Epoch 10/20\n",
      "458/458 [==============================] - 345s 754ms/step - loss: 0.0876 - accuracy: 0.9701\n",
      "Epoch 11/20\n",
      "458/458 [==============================] - 345s 752ms/step - loss: 0.0803 - accuracy: 0.9707\n",
      "Epoch 12/20\n",
      "458/458 [==============================] - 345s 753ms/step - loss: 0.0771 - accuracy: 0.9726\n",
      "Epoch 13/20\n",
      "458/458 [==============================] - 345s 753ms/step - loss: 0.0679 - accuracy: 0.9763\n",
      "Epoch 14/20\n",
      "458/458 [==============================] - 344s 752ms/step - loss: 0.0669 - accuracy: 0.9766\n",
      "Epoch 15/20\n",
      "458/458 [==============================] - 344s 751ms/step - loss: 0.0675 - accuracy: 0.9773\n",
      "Epoch 16/20\n",
      "458/458 [==============================] - 347s 757ms/step - loss: 0.0666 - accuracy: 0.9770\n",
      "Epoch 17/20\n",
      "458/458 [==============================] - 346s 756ms/step - loss: 0.0544 - accuracy: 0.9818\n",
      "Epoch 18/20\n",
      "458/458 [==============================] - 361s 788ms/step - loss: 0.0491 - accuracy: 0.9828\n",
      "Epoch 19/20\n",
      "458/458 [==============================] - 389s 848ms/step - loss: 0.0494 - accuracy: 0.9828\n",
      "Epoch 20/20\n",
      "458/458 [==============================] - 346s 756ms/step - loss: 0.0482 - accuracy: 0.9843\n"
     ]
    },
    {
     "data": {
      "text/plain": [
       "<keras.callbacks.History at 0x2c149570dc8>"
      ]
     },
     "execution_count": 6,
     "metadata": {},
     "output_type": "execute_result"
    }
   ],
   "source": [
    "network.fit(training_data, epochs=20)"
   ]
  },
  {
   "cell_type": "code",
   "execution_count": 10,
   "id": "f8e33a3c",
   "metadata": {},
   "outputs": [],
   "source": [
    "network.save(\"model.keras\")"
   ]
  },
  {
   "cell_type": "code",
   "execution_count": 11,
   "id": "c16959a3",
   "metadata": {},
   "outputs": [],
   "source": [
    "loaded_model = keras.models.load_model(\"model.keras\")"
   ]
  },
  {
   "cell_type": "code",
   "execution_count": 12,
   "id": "a847af5c",
   "metadata": {},
   "outputs": [
    {
     "name": "stdout",
     "output_type": "stream",
     "text": [
      "Model: \"sequential\"\n",
      "_________________________________________________________________\n",
      " Layer (type)                Output Shape              Param #   \n",
      "=================================================================\n",
      " conv2d (Conv2D)             (None, 62, 62, 32)        896       \n",
      "                                                                 \n",
      " max_pooling2d (MaxPooling2D  (None, 31, 31, 32)       0         \n",
      " )                                                               \n",
      "                                                                 \n",
      " conv2d_1 (Conv2D)           (None, 29, 29, 32)        9248      \n",
      "                                                                 \n",
      " max_pooling2d_1 (MaxPooling  (None, 14, 14, 32)       0         \n",
      " 2D)                                                             \n",
      "                                                                 \n",
      " flatten (Flatten)           (None, 6272)              0         \n",
      "                                                                 \n",
      " dense (Dense)               (None, 7317)              45899541  \n",
      "                                                                 \n",
      " dense_1 (Dense)             (None, 7317)              53545806  \n",
      "                                                                 \n",
      " dense_2 (Dense)             (None, 3)                 21954     \n",
      "                                                                 \n",
      "=================================================================\n",
      "Total params: 99,477,445\n",
      "Trainable params: 99,477,445\n",
      "Non-trainable params: 0\n",
      "_________________________________________________________________\n"
     ]
    }
   ],
   "source": [
    "loaded_model.summary()"
   ]
  },
  {
   "cell_type": "code",
   "execution_count": 13,
   "id": "cf492360",
   "metadata": {},
   "outputs": [
    {
     "name": "stdout",
     "output_type": "stream",
     "text": [
      "1500/1500 [==============================] - 45s 30ms/step\n"
     ]
    }
   ],
   "source": [
    "preds = loaded_model.predict(test_data)"
   ]
  },
  {
   "cell_type": "code",
   "execution_count": 14,
   "id": "3f9d2e03",
   "metadata": {},
   "outputs": [],
   "source": [
    "preds = np.argmax(preds, axis = 1)"
   ]
  },
  {
   "cell_type": "code",
   "execution_count": 15,
   "id": "8899ef20",
   "metadata": {},
   "outputs": [
    {
     "data": {
      "text/plain": [
       "0.9706666666666667"
      ]
     },
     "execution_count": 15,
     "metadata": {},
     "output_type": "execute_result"
    }
   ],
   "source": [
    "from sklearn.metrics import accuracy_score\n",
    "accuracy_score(test_data.classes, preds)"
   ]
  },
  {
   "cell_type": "code",
   "execution_count": null,
   "id": "13c0c44e",
   "metadata": {},
   "outputs": [],
   "source": []
  },
  {
   "cell_type": "code",
   "execution_count": null,
   "id": "cdcc4426",
   "metadata": {},
   "outputs": [],
   "source": []
  },
  {
   "cell_type": "code",
   "execution_count": null,
   "id": "578ba486",
   "metadata": {},
   "outputs": [],
   "source": []
  }
 ],
 "metadata": {
  "kernelspec": {
   "display_name": "Python 3 (ipykernel)",
   "language": "python",
   "name": "python3"
  },
  "language_info": {
   "codemirror_mode": {
    "name": "ipython",
    "version": 3
   },
   "file_extension": ".py",
   "mimetype": "text/x-python",
   "name": "python",
   "nbconvert_exporter": "python",
   "pygments_lexer": "ipython3",
   "version": "3.7.16"
  }
 },
 "nbformat": 4,
 "nbformat_minor": 5
}
